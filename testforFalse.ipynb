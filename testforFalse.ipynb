{
 "cells": [
  {
   "cell_type": "code",
   "execution_count": 33,
   "id": "initial_id",
   "metadata": {
    "collapsed": true,
    "ExecuteTime": {
     "end_time": "2024-01-03T10:20:04.491522600Z",
     "start_time": "2024-01-03T10:20:04.476512800Z"
    }
   },
   "outputs": [],
   "source": [
    "import os\n",
    "import numpy as np\n",
    "import torch\n",
    "from torch.utils.data import Dataset, DataLoader"
   ]
  },
  {
   "cell_type": "code",
   "execution_count": 34,
   "outputs": [],
   "source": [
    "class NPYDataset(Dataset):\n",
    "    def __init__(self, root_dir):\n",
    "        \"\"\"\n",
    "        初始化数据集\n",
    "        :param root_dir: 包含所有子文件夹（0-9）的根目录\n",
    "        \"\"\"\n",
    "        self.data_files = []\n",
    "        self.labels = []\n",
    "\n",
    "        # 遍历根目录下的每个文件夹\n",
    "        for label in range(10):  # 假设标签是从0到9\n",
    "            folder_path = os.path.join(root_dir, str(label))\n",
    "            if os.path.isdir(folder_path):\n",
    "                for file in os.listdir(folder_path):\n",
    "                    if file.endswith('.npy'):\n",
    "                        file_path = os.path.join(folder_path, file)\n",
    "                        # 保存文件路径而不是加载数据\n",
    "                        self.data_files.append(file_path)\n",
    "                        # 使用文件夹名称作为标签\n",
    "                        self.labels.append(label)\n",
    "\n",
    "    def __len__(self):\n",
    "        return len(self.data_files)\n",
    "\n",
    "    def __getitem__(self, idx):\n",
    "        # 按需加载数据\n",
    "        data = np.load(self.data_files[idx])\n",
    "        data = np.sum(data, axis=0)\n",
    "        label = self.labels[idx]\n",
    "        return torch.from_numpy(data).unsqueeze(0).float(), label\n",
    "    def delete_items(self, indices):\n",
    "        # 删除指定索引的数据\n",
    "        self.data_files = [d for i, d in enumerate(self.data_files) if i not in indices]\n",
    "        self.labels = [l for i, l in enumerate(self.labels) if i not in indices]"
   ],
   "metadata": {
    "collapsed": false,
    "ExecuteTime": {
     "end_time": "2024-01-03T10:20:04.522774600Z",
     "start_time": "2024-01-03T10:20:04.495513700Z"
    }
   },
   "id": "43a895ca92a0598"
  },
  {
   "cell_type": "code",
   "execution_count": 35,
   "outputs": [],
   "source": [
    "root_dir = './processed_data/train-modify'  # 替换为您的数据集根目录路径\n",
    "dataset = NPYDataset(root_dir)\n"
   ],
   "metadata": {
    "collapsed": false,
    "ExecuteTime": {
     "end_time": "2024-01-03T10:20:04.666481800Z",
     "start_time": "2024-01-03T10:20:04.507770400Z"
    }
   },
   "id": "bc18953472ea2351"
  },
  {
   "cell_type": "code",
   "execution_count": 36,
   "outputs": [],
   "source": [
    "trainloader = DataLoader(dataset, batch_size=64, shuffle=True)"
   ],
   "metadata": {
    "collapsed": false,
    "ExecuteTime": {
     "end_time": "2024-01-03T10:20:04.683482Z",
     "start_time": "2024-01-03T10:20:04.665483600Z"
    }
   },
   "id": "9389eda1cb678c49"
  },
  {
   "cell_type": "code",
   "execution_count": 37,
   "outputs": [
    {
     "data": {
      "text/plain": "CNN(\n  (conv1): Sequential(\n    (0): Conv2d(1, 16, kernel_size=(5, 5), stride=(1, 1), padding=(2, 2))\n    (1): ReLU()\n    (2): MaxPool2d(kernel_size=2, stride=2, padding=0, dilation=1, ceil_mode=False)\n  )\n  (conv2): Sequential(\n    (0): Conv2d(16, 32, kernel_size=(5, 5), stride=(1, 1), padding=(2, 2))\n    (1): ReLU()\n    (2): MaxPool2d(kernel_size=2, stride=2, padding=0, dilation=1, ceil_mode=False)\n  )\n  (out): Linear(in_features=1568, out_features=10, bias=True)\n)"
     },
     "execution_count": 37,
     "metadata": {},
     "output_type": "execute_result"
    }
   ],
   "source": [
    "\n",
    "from CNN import CNN\n",
    "batch_size = 64\n",
    "# 加载模型\n",
    "\n",
    "cnn = CNN()\n",
    "# 如果模型已经训练过，确保加载模型权重\n",
    "cnn.load_state_dict(torch.load('cnn2.pkl'))\n",
    "# 将模型设置为评估模式\n",
    "cnn.eval()"
   ],
   "metadata": {
    "collapsed": false,
    "ExecuteTime": {
     "end_time": "2024-01-03T10:20:04.725058300Z",
     "start_time": "2024-01-03T10:20:04.682481500Z"
    }
   },
   "id": "35524d5c7b2acf3"
  },
  {
   "cell_type": "code",
   "execution_count": 38,
   "outputs": [
    {
     "name": "stderr",
     "output_type": "stream",
     "text": [
      "100%|██████████| 938/938 [00:21<00:00, 43.67it/s]"
     ]
    },
    {
     "name": "stdout",
     "output_type": "stream",
     "text": [
      "15313\n"
     ]
    },
    {
     "name": "stderr",
     "output_type": "stream",
     "text": [
      "\n"
     ]
    }
   ],
   "source": [
    "from tqdm import tqdm\n",
    "delect_index=[]\n",
    "for index, (data, label) in enumerate(tqdm(trainloader)):\n",
    "    # 模型预测  \n",
    "    output = cnn(data)\n",
    "    _, predicted = torch.max(output.data, 1)\n",
    "    # 检查预测是否正确\n",
    "    batch_start_index = index * trainloader.batch_size\n",
    "    for idx, pred in enumerate(predicted):\n",
    "        absolute_idx = batch_start_index + idx  # 计算在整个数据集中的索引\n",
    "        if pred.item() != label[idx].item():\n",
    "            delect_index.append(absolute_idx)\n",
    "print(len(delect_index))               "
   ],
   "metadata": {
    "collapsed": false,
    "ExecuteTime": {
     "end_time": "2024-01-03T10:20:26.186321300Z",
     "start_time": "2024-01-03T10:20:04.697481300Z"
    }
   },
   "id": "db3614a1a43e36ba"
  },
  {
   "cell_type": "code",
   "execution_count": 54,
   "outputs": [],
   "source": [
    "\n",
    "dataset.delete_items(delect_index)\n",
    "\n",
    "# 创建一个新的 DataLoader用来训练\n",
    "new_dataloader = DataLoader(dataset, batch_size=64, shuffle=True)\n"
   ],
   "metadata": {
    "collapsed": false
   },
   "id": "55e68d388bc55596"
  },
  {
   "cell_type": "code",
   "execution_count": 69,
   "outputs": [
    {
     "data": {
      "text/plain": "(tensor([[[0.0000, 0.0000, 0.0000, 0.0000, 0.0000, 0.0000, 0.0000, 0.0000,\n           0.0000, 0.0000, 0.0000, 0.0000, 0.0000, 0.0000, 0.0000, 0.0000,\n           0.0000, 0.0000, 0.0000, 0.0000, 0.0000, 0.0000, 0.0000, 0.0000,\n           0.0000, 0.0000, 0.0000, 0.0000],\n          [0.0000, 0.0000, 0.0000, 0.0000, 0.0000, 0.0000, 0.0000, 0.0000,\n           0.0000, 0.0000, 0.0000, 0.0000, 0.0000, 0.0000, 0.0000, 0.0000,\n           0.0000, 0.0000, 0.0000, 0.0000, 0.0000, 0.0000, 0.0000, 0.0000,\n           0.0000, 0.0000, 0.0000, 0.0000],\n          [0.0000, 0.0000, 0.0000, 0.0000, 0.0000, 0.0000, 0.0000, 0.0000,\n           0.0000, 0.0000, 0.0000, 0.0000, 0.0000, 0.0000, 0.0000, 0.0000,\n           0.0000, 0.0000, 0.0000, 0.0000, 0.0000, 0.0000, 0.0000, 0.0000,\n           0.0000, 0.0000, 0.0000, 0.0000],\n          [0.0000, 0.0000, 0.0000, 0.0000, 0.0000, 0.0000, 0.0000, 0.0000,\n           0.0000, 0.0000, 0.0000, 0.0000, 0.0000, 0.0000, 0.0000, 0.0000,\n           0.0000, 0.0000, 0.0000, 0.0000, 0.0000, 0.0000, 0.0000, 0.0000,\n           0.0000, 0.0000, 0.0000, 0.0000],\n          [0.0000, 0.0000, 0.0000, 0.0000, 0.0000, 0.0000, 0.0000, 0.0000,\n           0.0000, 0.0000, 0.0000, 0.0000, 0.0000, 0.0000, 0.0000, 0.2000,\n           0.6235, 0.9922, 0.6235, 0.1961, 0.0000, 0.0000, 0.0000, 0.0000,\n           0.0000, 0.0000, 0.0000, 0.0000],\n          [0.0000, 0.0000, 0.0000, 0.0000, 0.0000, 0.0000, 0.0000, 0.0000,\n           0.0000, 0.0000, 0.0000, 0.0000, 0.0000, 0.0000, 0.1882, 0.9333,\n           0.9882, 0.9882, 0.9882, 0.9294, 0.0000, 0.0000, 0.0000, 0.0000,\n           0.0000, 0.0000, 0.0000, 0.0000],\n          [0.0000, 0.0000, 0.0000, 0.0000, 0.0000, 0.0000, 0.0000, 0.0000,\n           0.0000, 0.0000, 0.0000, 0.0000, 0.0000, 0.2118, 0.8902, 0.9922,\n           0.9882, 0.9373, 0.9137, 0.9882, 0.2235, 0.0235, 0.0000, 0.0000,\n           0.0000, 0.0000, 0.0000, 0.0000],\n          [0.0000, 0.0000, 0.0000, 0.0000, 0.0000, 0.0000, 0.0000, 0.0000,\n           0.0000, 0.0000, 0.0000, 0.0392, 0.2353, 0.8784, 0.9882, 0.9922,\n           0.9882, 0.7922, 0.3294, 0.9882, 0.9922, 0.4784, 0.0000, 0.0000,\n           0.0000, 0.0000, 0.0000, 0.0000],\n          [0.0000, 0.0000, 0.0000, 0.0000, 0.0000, 0.0000, 0.0000, 0.0000,\n           0.0000, 0.0000, 0.0000, 0.6392, 0.9882, 0.9882, 0.9882, 0.9922,\n           0.9882, 0.9882, 0.3765, 0.7412, 0.9922, 0.6549, 0.0000, 0.0000,\n           0.0000, 0.0000, 0.0000, 0.0000],\n          [0.0000, 0.0000, 0.0000, 0.0000, 0.0000, 0.0000, 0.0000, 0.0000,\n           0.0000, 0.0000, 0.2000, 0.9333, 0.9922, 0.9922, 0.7451, 0.4471,\n           0.9922, 0.8941, 0.1843, 0.3098, 1.0000, 0.6588, 0.0000, 0.0000,\n           0.0000, 0.0000, 0.0000, 0.0000],\n          [0.0000, 0.0000, 0.0000, 0.0000, 0.0000, 0.0000, 0.0000, 0.0000,\n           0.0000, 0.1882, 0.9333, 0.9882, 0.9882, 0.7020, 0.0471, 0.2941,\n           0.4745, 0.0824, 0.0000, 0.0000, 0.9922, 0.9529, 0.1961, 0.0000,\n           0.0000, 0.0000, 0.0000, 0.0000],\n          [0.0000, 0.0000, 0.0000, 0.0000, 0.0000, 0.0000, 0.0000, 0.0000,\n           0.1490, 0.6471, 0.9922, 0.9137, 0.8157, 0.3294, 0.0000, 0.0000,\n           0.0000, 0.0000, 0.0000, 0.0000, 0.9922, 0.9882, 0.6471, 0.0000,\n           0.0000, 0.0000, 0.0000, 0.0000],\n          [0.0000, 0.0000, 0.0000, 0.0000, 0.0000, 0.0000, 0.0000, 0.0275,\n           0.6980, 0.9882, 0.9412, 0.2784, 0.0745, 0.1098, 0.0000, 0.0000,\n           0.0000, 0.0000, 0.0000, 0.0000, 0.9922, 0.9882, 0.7647, 0.0000,\n           0.0000, 0.0000, 0.0000, 0.0000],\n          [0.0000, 0.0000, 0.0000, 0.0000, 0.0000, 0.0000, 0.0000, 0.2235,\n           0.9882, 0.9882, 0.2471, 0.0000, 0.0000, 0.0000, 0.0000, 0.0000,\n           0.0000, 0.0000, 0.0000, 0.0000, 0.9922, 0.9882, 0.7647, 0.0000,\n           0.0000, 0.0000, 0.0000, 0.0000],\n          [0.0000, 0.0000, 0.0000, 0.0000, 0.0000, 0.0000, 0.0000, 0.7765,\n           0.9922, 0.7451, 0.0000, 0.0000, 0.0000, 0.0000, 0.0000, 0.0000,\n           0.0000, 0.0000, 0.0000, 0.0000, 1.0000, 0.9922, 0.7686, 0.0000,\n           0.0000, 0.0000, 0.0000, 0.0000],\n          [0.0000, 0.0000, 0.0000, 0.0000, 0.0000, 0.0000, 0.2980, 0.9647,\n           0.9882, 0.4392, 0.0000, 0.0000, 0.0000, 0.0000, 0.0000, 0.0000,\n           0.0000, 0.0000, 0.0000, 0.0000, 0.9922, 0.9882, 0.5804, 0.0000,\n           0.0000, 0.0000, 0.0000, 0.0000],\n          [0.0000, 0.0000, 0.0000, 0.0000, 0.0000, 0.0000, 0.3333, 0.9882,\n           0.9020, 0.0980, 0.0000, 0.0000, 0.0000, 0.0000, 0.0000, 0.0000,\n           0.0000, 0.0000, 0.0275, 0.5294, 0.9922, 0.7294, 0.0471, 0.0000,\n           0.0000, 0.0000, 0.0000, 0.0000],\n          [0.0000, 0.0000, 0.0000, 0.0000, 0.0000, 0.0000, 0.3333, 0.9882,\n           0.8745, 0.0000, 0.0000, 0.0000, 0.0000, 0.0000, 0.0000, 0.0000,\n           0.0000, 0.0275, 0.5137, 0.9882, 0.8824, 0.2784, 0.0000, 0.0000,\n           0.0000, 0.0000, 0.0000, 0.0000],\n          [0.0000, 0.0000, 0.0000, 0.0000, 0.0000, 0.0000, 0.3333, 0.9882,\n           0.5686, 0.0000, 0.0000, 0.0000, 0.0000, 0.0000, 0.0000, 0.0000,\n           0.1882, 0.6471, 0.9882, 0.6784, 0.0000, 0.0000, 0.0000, 0.0000,\n           0.0000, 0.0000, 0.0000, 0.0000],\n          [0.0000, 0.0000, 0.0000, 0.0000, 0.0000, 0.0000, 0.3373, 0.9922,\n           0.8824, 0.0000, 0.0000, 0.0000, 0.0000, 0.0000, 0.0000, 0.4471,\n           0.9333, 0.9922, 0.6353, 0.0000, 0.0000, 0.0000, 0.0000, 0.0000,\n           0.0000, 0.0000, 0.0000, 0.0000],\n          [0.0000, 0.0000, 0.0000, 0.0000, 0.0000, 0.0000, 0.3333, 0.9882,\n           0.9765, 0.5725, 0.1882, 0.1137, 0.3333, 0.6980, 0.8824, 0.9922,\n           0.8745, 0.6549, 0.2196, 0.0000, 0.0000, 0.0000, 0.0000, 0.0000,\n           0.0000, 0.0000, 0.0000, 0.0000],\n          [0.0000, 0.0000, 0.0000, 0.0000, 0.0000, 0.0000, 0.3333, 0.9882,\n           0.9882, 0.9882, 0.8980, 0.8431, 0.9882, 0.9882, 0.9882, 0.7686,\n           0.5098, 0.0000, 0.0000, 0.0000, 0.0000, 0.0000, 0.0000, 0.0000,\n           0.0000, 0.0000, 0.0000, 0.0000],\n          [0.0000, 0.0000, 0.0000, 0.0000, 0.0000, 0.0000, 0.1098, 0.7804,\n           0.9882, 0.9882, 0.9922, 0.9882, 0.9882, 0.9137, 0.5686, 0.0000,\n           0.0000, 0.0000, 0.0000, 0.0000, 0.0000, 0.0000, 0.0000, 0.0000,\n           0.0000, 0.0000, 0.0000, 0.0000],\n          [0.0000, 0.0000, 0.0000, 0.0000, 0.0000, 0.0000, 0.0000, 0.0980,\n           0.5020, 0.9882, 0.9922, 0.9882, 0.5529, 0.1451, 0.0000, 0.0000,\n           0.0000, 0.0000, 0.0000, 0.0000, 0.0000, 0.0000, 0.0000, 0.0000,\n           0.0000, 0.0000, 0.0000, 0.0000],\n          [0.0000, 0.0000, 0.0000, 0.0000, 0.0000, 0.0000, 0.0000, 0.0000,\n           0.0000, 0.0000, 0.0000, 0.0000, 0.0000, 0.0000, 0.0000, 0.0000,\n           0.0000, 0.0000, 0.0000, 0.0000, 0.0000, 0.0000, 0.0000, 0.0000,\n           0.0000, 0.0000, 0.0000, 0.0000],\n          [0.0000, 0.0000, 0.0000, 0.0000, 0.0000, 0.0000, 0.0000, 0.0000,\n           0.0000, 0.0000, 0.0000, 0.0000, 0.0000, 0.0000, 0.0000, 0.0000,\n           0.0000, 0.0000, 0.0000, 0.0000, 0.0000, 0.0000, 0.0000, 0.0000,\n           0.0000, 0.0000, 0.0000, 0.0000],\n          [0.0000, 0.0000, 0.0000, 0.0000, 0.0000, 0.0000, 0.0000, 0.0000,\n           0.0000, 0.0000, 0.0000, 0.0000, 0.0000, 0.0000, 0.0000, 0.0000,\n           0.0000, 0.0000, 0.0000, 0.0000, 0.0000, 0.0000, 0.0000, 0.0000,\n           0.0000, 0.0000, 0.0000, 0.0000],\n          [0.0000, 0.0000, 0.0000, 0.0000, 0.0000, 0.0000, 0.0000, 0.0000,\n           0.0000, 0.0000, 0.0000, 0.0000, 0.0000, 0.0000, 0.0000, 0.0000,\n           0.0000, 0.0000, 0.0000, 0.0000, 0.0000, 0.0000, 0.0000, 0.0000,\n           0.0000, 0.0000, 0.0000, 0.0000]]]),\n 0)"
     },
     "execution_count": 69,
     "metadata": {},
     "output_type": "execute_result"
    }
   ],
   "source": [
    "new_dataloader.dataset[0]"
   ],
   "metadata": {
    "collapsed": false,
    "ExecuteTime": {
     "end_time": "2024-01-03T11:24:38.543157600Z",
     "start_time": "2024-01-03T11:24:38.525157Z"
    }
   },
   "id": "69afa30802e5016a"
  },
  {
   "cell_type": "code",
   "execution_count": 65,
   "outputs": [],
   "source": [
    "\n",
    "torch.manual_seed(1)  # 使用随机化种子使神经网络的初始化每次都相同\n",
    "\n",
    "# 超参数\n",
    "EPOCH = 5  # 训练整批数据的次数\n",
    "BATCH_SIZE = 64\n",
    "LR = 0.001  # 学习率\n"
   ],
   "metadata": {
    "collapsed": false,
    "ExecuteTime": {
     "end_time": "2024-01-03T11:22:00.269233400Z",
     "start_time": "2024-01-03T11:22:00.261235600Z"
    }
   },
   "id": "2bb344c965805c04"
  },
  {
   "cell_type": "code",
   "execution_count": 49,
   "outputs": [],
   "source": [
    "import torch.nn as nn\n",
    "# 用class类来建立CNN模型\n",
    "# CNN流程：卷积(Conv2d)-> 激励函数(ReLU)->池化(MaxPooling)->\n",
    "#        卷积(Conv2d)-> 激励函数(ReLU)->池化(MaxPooling)->\n",
    "#        展平多维的卷积成的特征图->接入全连接层(Linear)->输出\n",
    "cnn2 = CNN()\n",
    "\n",
    "# 训练\n",
    "# 把x和y 都放入Variable中，然后放入cnn中计算output，最后再计算误差\n",
    "\n",
    "# 优化器选择Adam\n",
    "optimizer = torch.optim.Adam(cnn2.parameters(), lr=LR)\n",
    "# 损失函数\n",
    "loss_func = nn.CrossEntropyLoss()  # 目标标签是one-hotted"
   ],
   "metadata": {
    "collapsed": false,
    "ExecuteTime": {
     "end_time": "2024-01-03T10:51:06.138078500Z",
     "start_time": "2024-01-03T10:51:06.132079Z"
    }
   },
   "id": "ff5f8647375647b2"
  },
  {
   "cell_type": "code",
   "execution_count": 72,
   "outputs": [
    {
     "ename": "TypeError",
     "evalue": "unsqueeze(): argument 'input' (position 1) must be Tensor, not NPYDataset",
     "output_type": "error",
     "traceback": [
      "\u001B[1;31m---------------------------------------------------------------------------\u001B[0m",
      "\u001B[1;31mTypeError\u001B[0m                                 Traceback (most recent call last)",
      "Cell \u001B[1;32mIn[72], line 1\u001B[0m\n\u001B[1;32m----> 1\u001B[0m test_x\u001B[38;5;241m=\u001B[39m\u001B[43mtorch\u001B[49m\u001B[38;5;241;43m.\u001B[39;49m\u001B[43munsqueeze\u001B[49m\u001B[43m(\u001B[49m\u001B[43mnew_dataloader\u001B[49m\u001B[38;5;241;43m.\u001B[39;49m\u001B[43mdataset\u001B[49m\u001B[43m,\u001B[49m\u001B[43m \u001B[49m\u001B[43mdim\u001B[49m\u001B[38;5;241;43m=\u001B[39;49m\u001B[38;5;241;43m1\u001B[39;49m\u001B[43m)\u001B[49m\u001B[38;5;241m.\u001B[39mtype(torch\u001B[38;5;241m.\u001B[39mFloatTensor)[:\u001B[38;5;241m2000\u001B[39m] \u001B[38;5;241m/\u001B[39m \u001B[38;5;241m255\u001B[39m\n\u001B[0;32m      2\u001B[0m test_y\u001B[38;5;241m=\u001B[39mnew_dataloader\u001B[38;5;241m.\u001B[39mdataset\u001B[38;5;241m.\u001B[39mlabels[:\u001B[38;5;241m2000\u001B[39m]\n",
      "\u001B[1;31mTypeError\u001B[0m: unsqueeze(): argument 'input' (position 1) must be Tensor, not NPYDataset"
     ]
    }
   ],
   "source": [
    "# test_x=torch.unsqueeze(new_dataloader.dataset, dim=1).type(torch.FloatTensor)[:2000] / 255\n",
    "# test_y=new_dataloader.dataset.labels[:2000] "
   ],
   "metadata": {
    "collapsed": false,
    "ExecuteTime": {
     "end_time": "2024-01-03T11:27:05.531876700Z",
     "start_time": "2024-01-03T11:27:05.512894400Z"
    }
   },
   "id": "274fe2f3a8c9db92"
  },
  {
   "cell_type": "code",
   "execution_count": 73,
   "outputs": [],
   "source": [
    "\n",
    "# 开始训练\n",
    "for epoch in range(EPOCH):\n",
    "    for step, (b_x, b_y) in enumerate(new_dataloader):  # 分配batch data\n",
    "        output = cnn2(b_x)  # 先将数据放到cnn中计算output\n",
    "        loss = loss_func(output, b_y)  # 输出和真实标签的loss，二者位置不可颠倒\n",
    "        optimizer.zero_grad()  # 清除之前学到的梯度的参数\n",
    "        loss.backward()  # 反向传播，计算梯度\n",
    "        optimizer.step()  # 应用梯度\n",
    "\n",
    "        # if step % 50 == 0:\n",
    "        #     test_output = cnn2(test_x)\n",
    "        #     pred_y = torch.max(test_output, 1)[1].data.numpy()\n",
    "        #     accuracy = float((pred_y == test_y.data.numpy()).astype(int).sum()) / float(test_y.size(0))\n",
    "        #     print('Epoch: ', int(epoch), '| train loss: %.4f' % loss.data.numpy(), '| test accuracy: %.2f' % accuracy)\n",
    "\n",
    "torch.save(cnn2.state_dict(), 'cnnLast.pkl')#保存模型\n"
   ],
   "metadata": {
    "collapsed": false,
    "ExecuteTime": {
     "end_time": "2024-01-03T11:29:27.254703700Z",
     "start_time": "2024-01-03T11:28:09.381483Z"
    }
   },
   "id": "3c8b0639e412ffa7"
  },
  {
   "cell_type": "code",
   "execution_count": 80,
   "outputs": [],
   "source": [
    "from testDataSet import testDataSet\n",
    "import matplotlib.pyplot as plt\n",
    "import pandas as pd\n",
    "batch_size = 64\n",
    "# 加载模型\n",
    "cnn2 = CNN()\n",
    "# 如果模型已经训练过，确保加载模型权重\n",
    "cnn2.load_state_dict(torch.load('cnnLast.pkl'))\n",
    "# 将模型设置为评估模式\n",
    "cnn2.eval()\n",
    "#将一个文件夹中的所有文件名写入到一个numpy数组中\n",
    "folder_path = './processed_data/test/'\n",
    "target_folder = './png_images/new/'\n",
    "test_dataset = testDataSet(folder_path)\n",
    "test_loader = DataLoader(test_dataset, batch_size=batch_size, shuffle=False)\n",
    "results =[]"
   ],
   "metadata": {
    "collapsed": false,
    "ExecuteTime": {
     "end_time": "2024-01-03T11:36:05.943349900Z",
     "start_time": "2024-01-03T11:36:05.908931100Z"
    }
   },
   "id": "294486d12197802a"
  },
  {
   "cell_type": "code",
   "execution_count": 82,
   "outputs": [
    {
     "name": "stderr",
     "output_type": "stream",
     "text": [
      "100%|██████████| 155/155 [01:03<00:00,  2.45it/s]\n"
     ]
    }
   ],
   "source": [
    "\n",
    "with torch.no_grad():\n",
    "    for batch_idx, data in enumerate(tqdm(test_loader)):\n",
    "\n",
    "        # 获取预测结果\n",
    "        outputs = cnn2(data)\n",
    "        _, predicted = torch.max(outputs, 1)\n",
    "        # 遍历批次中的每个图像及其预测\n",
    "        # for i, (image, pred) in enumerate(zip(data, predicted)):\n",
    "        #     # 处理图像数据\n",
    "        #     image_np = image.squeeze().numpy()  # 假设图像是单通道的\n",
    "        # \n",
    "        #     # 构建文件名（包含预测结果）\n",
    "        #     file_name = f\"batch{batch_idx}_img{i}_pred{pred.item()}.png\"\n",
    "\n",
    "            # 保存图像\n",
    "            # plt.imsave(os.path.join(target_folder, file_name), image_np, cmap='gray')\n",
    "\n",
    "        results.extend(predicted.cpu().numpy())\n"
   ],
   "metadata": {
    "collapsed": false,
    "ExecuteTime": {
     "end_time": "2024-01-03T11:38:06.645027600Z",
     "start_time": "2024-01-03T11:37:03.245513900Z"
    }
   },
   "id": "9e4756de231648d6"
  },
  {
   "cell_type": "code",
   "execution_count": 84,
   "outputs": [],
   "source": [
    "\n",
    "# 处理或保存测试结果\n",
    "file_names=np.array([str(f)+\".npy\" for f in range(9900)])\n",
    "predictions=pd.DataFrame({'fileNames':file_names,'predication':results})\n",
    "predictions.to_csv('predictionsLast.csv',index=False)"
   ],
   "metadata": {
    "collapsed": false,
    "ExecuteTime": {
     "end_time": "2024-01-03T11:38:22.648575500Z",
     "start_time": "2024-01-03T11:38:22.589565800Z"
    }
   },
   "id": "88a1347b8a0c8c52"
  }
 ],
 "metadata": {
  "kernelspec": {
   "display_name": "Python 3",
   "language": "python",
   "name": "python3"
  },
  "language_info": {
   "codemirror_mode": {
    "name": "ipython",
    "version": 2
   },
   "file_extension": ".py",
   "mimetype": "text/x-python",
   "name": "python",
   "nbconvert_exporter": "python",
   "pygments_lexer": "ipython2",
   "version": "2.7.6"
  }
 },
 "nbformat": 4,
 "nbformat_minor": 5
}
