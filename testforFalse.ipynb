{
 "cells": [
  {
   "cell_type": "code",
   "execution_count": 33,
   "id": "initial_id",
   "metadata": {
    "collapsed": true,
    "ExecuteTime": {
     "end_time": "2024-01-03T10:20:04.491522600Z",
     "start_time": "2024-01-03T10:20:04.476512800Z"
    }
   },
   "outputs": [],
   "source": [
    "import os\n",
    "import numpy as np\n",
    "import torch\n",
    "from torch.utils.data import Dataset, DataLoader"
   ]
  },
  {
   "cell_type": "code",
   "execution_count": 34,
   "outputs": [],
   "source": [
    "class NPYDataset(Dataset):\n",
    "    def __init__(self, root_dir):\n",
    "        \"\"\"\n",
    "        初始化数据集\n",
    "        :param root_dir: 包含所有子文件夹（0-9）的根目录\n",
    "        \"\"\"\n",
    "        self.data_files = []\n",
    "        self.labels = []\n",
    "\n",
    "        # 遍历根目录下的每个文件夹\n",
    "        for label in range(10):  # 假设标签是从0到9\n",
    "            folder_path = os.path.join(root_dir, str(label))\n",
    "            if os.path.isdir(folder_path):\n",
    "                for file in os.listdir(folder_path):\n",
    "                    if file.endswith('.npy'):\n",
    "                        file_path = os.path.join(folder_path, file)\n",
    "                        # 保存文件路径而不是加载数据\n",
    "                        self.data_files.append(file_path)\n",
    "                        # 使用文件夹名称作为标签\n",
    "                        self.labels.append(label)\n",
    "\n",
    "    def __len__(self):\n",
    "        return len(self.data_files)\n",
    "\n",
    "    def __getitem__(self, idx):\n",
    "        # 按需加载数据\n",
    "        data = np.load(self.data_files[idx])\n",
    "        data = np.sum(data, axis=0)\n",
    "        label = self.labels[idx]\n",
    "        return torch.from_numpy(data).unsqueeze(0).float(), label\n",
    "    def delete_items(self, indices):\n",
    "        # 删除指定索引的数据\n",
    "        self.data_files = [d for i, d in enumerate(self.data_files) if i not in indices]\n",
    "        self.labels = [l for i, l in enumerate(self.labels) if i not in indices]"
   ],
   "metadata": {
    "collapsed": false,
    "ExecuteTime": {
     "end_time": "2024-01-03T10:20:04.522774600Z",
     "start_time": "2024-01-03T10:20:04.495513700Z"
    }
   },
   "id": "43a895ca92a0598"
  },
  {
   "cell_type": "code",
   "execution_count": 35,
   "outputs": [],
   "source": [
    "root_dir = './processed_data/train-modify'  # 替换为您的数据集根目录路径\n",
    "dataset = NPYDataset(root_dir)\n"
   ],
   "metadata": {
    "collapsed": false,
    "ExecuteTime": {
     "end_time": "2024-01-03T10:20:04.666481800Z",
     "start_time": "2024-01-03T10:20:04.507770400Z"
    }
   },
   "id": "bc18953472ea2351"
  },
  {
   "cell_type": "code",
   "execution_count": 36,
   "outputs": [],
   "source": [
    "trainloader = DataLoader(dataset, batch_size=64, shuffle=True)"
   ],
   "metadata": {
    "collapsed": false,
    "ExecuteTime": {
     "end_time": "2024-01-03T10:20:04.683482Z",
     "start_time": "2024-01-03T10:20:04.665483600Z"
    }
   },
   "id": "9389eda1cb678c49"
  },
  {
   "cell_type": "code",
   "execution_count": 37,
   "outputs": [
    {
     "data": {
      "text/plain": "CNN(\n  (conv1): Sequential(\n    (0): Conv2d(1, 16, kernel_size=(5, 5), stride=(1, 1), padding=(2, 2))\n    (1): ReLU()\n    (2): MaxPool2d(kernel_size=2, stride=2, padding=0, dilation=1, ceil_mode=False)\n  )\n  (conv2): Sequential(\n    (0): Conv2d(16, 32, kernel_size=(5, 5), stride=(1, 1), padding=(2, 2))\n    (1): ReLU()\n    (2): MaxPool2d(kernel_size=2, stride=2, padding=0, dilation=1, ceil_mode=False)\n  )\n  (out): Linear(in_features=1568, out_features=10, bias=True)\n)"
     },
     "execution_count": 37,
     "metadata": {},
     "output_type": "execute_result"
    }
   ],
   "source": [
    "\n",
    "from CNN import CNN\n",
    "batch_size = 64\n",
    "# 加载模型\n",
    "\n",
    "cnn = CNN()\n",
    "# 如果模型已经训练过，确保加载模型权重\n",
    "cnn.load_state_dict(torch.load('cnn2.pkl'))\n",
    "# 将模型设置为评估模式\n",
    "cnn.eval()"
   ],
   "metadata": {
    "collapsed": false,
    "ExecuteTime": {
     "end_time": "2024-01-03T10:20:04.725058300Z",
     "start_time": "2024-01-03T10:20:04.682481500Z"
    }
   },
   "id": "35524d5c7b2acf3"
  },
  {
   "cell_type": "code",
   "execution_count": 38,
   "outputs": [
    {
     "name": "stderr",
     "output_type": "stream",
     "text": [
      "100%|██████████| 938/938 [00:21<00:00, 43.67it/s]"
     ]
    },
    {
     "name": "stdout",
     "output_type": "stream",
     "text": [
      "15313\n"
     ]
    },
    {
     "name": "stderr",
     "output_type": "stream",
     "text": [
      "\n"
     ]
    }
   ],
   "source": [
    "from tqdm import tqdm\n",
    "delect_index=[]\n",
    "for index, (data, label) in enumerate(tqdm(trainloader)):\n",
    "    # 模型预测  \n",
    "    output = cnn(data)\n",
    "    _, predicted = torch.max(output.data, 1)\n",
    "    # 检查预测是否正确\n",
    "    batch_start_index = index * trainloader.batch_size\n",
    "    for idx, pred in enumerate(predicted):\n",
    "        absolute_idx = batch_start_index + idx  # 计算在整个数据集中的索引\n",
    "        if pred.item() != label[idx].item():\n",
    "            delect_index.append(absolute_idx)\n",
    "print(len(delect_index))               "
   ],
   "metadata": {
    "collapsed": false,
    "ExecuteTime": {
     "end_time": "2024-01-03T10:20:26.186321300Z",
     "start_time": "2024-01-03T10:20:04.697481300Z"
    }
   },
   "id": "db3614a1a43e36ba"
  },
  {
   "cell_type": "code",
   "execution_count": 39,
   "outputs": [
    {
     "data": {
      "text/plain": "699"
     },
     "execution_count": 39,
     "metadata": {},
     "output_type": "execute_result"
    }
   ],
   "source": [
    "\n",
    "dataset.delete_items(delect_index)\n",
    "\n",
    "# 创建一个新的 DataLoader\n",
    "new_dataloader = DataLoader(dataset, batch_size=64, shuffle=True)\n"
   ],
   "metadata": {
    "collapsed": false,
    "ExecuteTime": {
     "end_time": "2024-01-03T10:20:41.362476200Z",
     "start_time": "2024-01-03T10:20:26.291321Z"
    }
   },
   "id": "55e68d388bc55596"
  },
  {
   "cell_type": "code",
   "execution_count": 42,
   "outputs": [
    {
     "name": "stdout",
     "output_type": "stream",
     "text": [
      "44687\n"
     ]
    }
   ],
   "source": [],
   "metadata": {
    "collapsed": false,
    "ExecuteTime": {
     "end_time": "2024-01-03T10:22:18.151740100Z",
     "start_time": "2024-01-03T10:22:18.138709100Z"
    }
   },
   "id": "3c8b0639e412ffa7"
  }
 ],
 "metadata": {
  "kernelspec": {
   "display_name": "Python 3",
   "language": "python",
   "name": "python3"
  },
  "language_info": {
   "codemirror_mode": {
    "name": "ipython",
    "version": 2
   },
   "file_extension": ".py",
   "mimetype": "text/x-python",
   "name": "python",
   "nbconvert_exporter": "python",
   "pygments_lexer": "ipython2",
   "version": "2.7.6"
  }
 },
 "nbformat": 4,
 "nbformat_minor": 5
}
