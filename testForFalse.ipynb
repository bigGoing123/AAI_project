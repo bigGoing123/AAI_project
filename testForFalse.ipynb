{
 "cells": [
  {
   "cell_type": "code",
   "execution_count": 1,
   "id": "initial_id",
   "metadata": {
    "collapsed": true,
    "ExecuteTime": {
     "end_time": "2024-01-04T07:29:34.469841800Z",
     "start_time": "2024-01-04T07:29:30.235463600Z"
    }
   },
   "outputs": [],
   "source": [
    "import os\n",
    "import numpy as np\n",
    "import torch\n",
    "from torch.utils.data import Dataset, DataLoader\n",
    "from CNN import CNN\n",
    "from tqdm import tqdm\n",
    "import torch.nn as nn\n",
    "from trainDataSet import trainDataSet\n",
    "import matplotlib.pyplot as plt\n",
    "import pandas as pd\n",
    "torch.manual_seed(1)  # 使用随机化种子使神经网络的初始化每次都相同\n",
    "from testDataSet import testDataSet\n",
    "# 超参数\n",
    "EPOCH = 5 # 训练整批数据的次数\n",
    "BATCH_SIZE = 64\n",
    "LR = 0.001  # 学习率"
   ]
  },
  {
   "cell_type": "code",
   "execution_count": 2,
   "outputs": [],
   "source": [
    "def delete_error_img():\n",
    "    \"\"\"\n",
    "    由于train数据集中图片噪音过多，现用官方数据训练完成的模型对一些标签错误的图片进行筛选，模型准确率已经在98%左右；\n",
    "    如果模型预测的标签与实际标签不一致，则删除该图片\n",
    "    \"\"\"\n",
    "\n",
    "    root_dir = './processed_data/train'  # 替换为数据集根目录路径\n",
    "    dataset = trainDataSet(root_dir)\n",
    "    train_loader = DataLoader(dataset, batch_size=BATCH_SIZE, shuffle=True)\n",
    "    # 加载模型\n",
    "\n",
    "    cnn = CNN()\n",
    "    # 如果模型已经训练过，确保加载模型权重\n",
    "    #该模型是用mnist官方数据集训练完成的\n",
    "    cnn.load_state_dict(torch.load('cnn2.pkl'))\n",
    "    # 将模型设置为评估模式\n",
    "    cnn.eval()\n",
    "    delect_index=[]#需要被删除的下标\n",
    "    for index, (data, label) in enumerate(tqdm(train_loader)):\n",
    "        # 模型预测\n",
    "        output = cnn(data)\n",
    "        _, predicted = torch.max(output.data, 1)\n",
    "        # 检查预测是否正确\n",
    "        batch_start_index = index * train_loader.batch_size\n",
    "        for idx, pred in enumerate(predicted):\n",
    "            absolute_idx = batch_start_index + idx  # 计算在整个数据集中的索引\n",
    "            if pred.item() != label[idx].item():\n",
    "                delect_index.append(absolute_idx)\n",
    "    print(\"删除噪音数据中........大概2min\")\n",
    "    dataset.delete_items(delect_index)\n",
    "    # 创建一个新的 DataLoader用来训练\n",
    "    new_dataloader = DataLoader(dataset, batch_size=BATCH_SIZE, shuffle=True)\n",
    "    return new_dataloader\n",
    "\n",
    "\n",
    "def train_for_new_model(train_loader):\n",
    "    \"\"\"\n",
    "    dataloader是要训练的数据集\n",
    "    通过cnn训练已经清理完成的数据集，来得到一个针对于该数据集的新模型。\n",
    "    \"\"\"\n",
    "    cnn2 = CNN()\n",
    "    # 优化器选择Adam\n",
    "    optimizer = torch.optim.Adam(cnn2.parameters(), lr=LR)\n",
    "    # 损失函数\n",
    "    loss_func = nn.CrossEntropyLoss()  # 目标标签是one-hotted\n",
    "    # 开始训练\n",
    "    for epoch in range(EPOCH):\n",
    "        for step, (b_x, b_y) in enumerate(tqdm(train_loader)):  # 分配batch data\n",
    "            output = cnn2(b_x)  # 先将数据放到cnn中计算output\n",
    "            loss = loss_func(output, b_y)  # 输出和真实标签的loss，二者位置不可颠倒\n",
    "            optimizer.zero_grad()  # 清除之前学到的梯度的参数\n",
    "            loss.backward()  # 反向传播，计算梯度\n",
    "            optimizer.step()  # 应用梯度\n",
    "    torch.save(cnn2.state_dict(), 'cnnLast.pkl')#保存新模型"
   ],
   "metadata": {
    "collapsed": false,
    "ExecuteTime": {
     "end_time": "2024-01-04T07:29:34.492607500Z",
     "start_time": "2024-01-04T07:29:34.465811900Z"
    }
   },
   "id": "f15a81212f41da47"
  },
  {
   "cell_type": "code",
   "execution_count": 3,
   "outputs": [
    {
     "name": "stderr",
     "output_type": "stream",
     "text": [
      "100%|██████████| 938/938 [00:28<00:00, 33.48it/s]\n"
     ]
    },
    {
     "name": "stdout",
     "output_type": "stream",
     "text": [
      "删除噪音数据中........大概2min\n"
     ]
    }
   ],
   "source": [
    "newloader=delete_error_img()"
   ],
   "metadata": {
    "collapsed": false,
    "ExecuteTime": {
     "end_time": "2024-01-04T07:30:15.752242300Z",
     "start_time": "2024-01-04T07:29:34.489542Z"
    }
   },
   "id": "6c71f5aef285e9a5"
  },
  {
   "cell_type": "code",
   "execution_count": 11,
   "outputs": [],
   "source": [
    "filename=newloader.dataset.data_files\n",
    "labels=newloader.dataset.labels\n",
    "pd.DataFrame({\"name\":filename,\"labels\":labels}).to_csv(\"hahah.csv\")"
   ],
   "metadata": {
    "collapsed": false,
    "ExecuteTime": {
     "end_time": "2024-01-04T07:39:30.192679500Z",
     "start_time": "2024-01-04T07:39:29.925453900Z"
    }
   },
   "id": "86bd16fb7207d3d9"
  },
  {
   "cell_type": "code",
   "execution_count": 23,
   "outputs": [
    {
     "name": "stdout",
     "output_type": "stream",
     "text": [
      "60000\n"
     ]
    }
   ],
   "source": [
    "root_dir = './processed_data/train'  # 替换为数据集根目录路径\n",
    "dataset1 = trainDataSet(root_dir)\n",
    "train_loader = DataLoader(dataset1, batch_size=BATCH_SIZE, shuffle=True)\n",
    "print(len(dataset1))\n",
    "old_filename=train_loader.dataset.data_files\n",
    "old_labels=train_loader.dataset.labels\n",
    "pd.DataFrame({\"name\":old_filename,\"labels\":old_labels}).to_csv(\"hahah1.csv\")"
   ],
   "metadata": {
    "collapsed": false,
    "ExecuteTime": {
     "end_time": "2024-01-04T07:53:29.087763400Z",
     "start_time": "2024-01-04T07:53:28.416144900Z"
    }
   },
   "id": "5187420d533cfb6a"
  },
  {
   "cell_type": "code",
   "execution_count": null,
   "outputs": [],
   "source": [
    "cnn = CNN()\n",
    "# 如果模型已经训练过，确保加载模型权重\n",
    "#该模型是用mnist官方数据集训练完成的\n",
    "cnn.load_state_dict(torch.load('cnn2.pkl'))\n",
    "# 将模型设置为评估模式\n",
    "cnn.eval()\n",
    "delect_index=[]#需要被删除的下标\n",
    "for index, (data, label) in enumerate(tqdm(newloader)):\n",
    "    # 模型预测\n",
    "    output = cnn(data)\n",
    "    _, predicted = torch.max(output.data, 1)\n",
    "    # 检查预测是否正确\n",
    "    batch_start_index = index * newloader.batch_size\n",
    "    for idx, pred in enumerate(predicted):\n",
    "        absolute_idx = batch_start_index + idx  # 计算在整个数据集中的索引\n",
    "        if pred.item() != label[idx].item():\n",
    "            delect_index.append(absolute_idx)\n",
    "len(delect_index)"
   ],
   "metadata": {
    "collapsed": false
   },
   "id": "44ef01afb92dc761"
  },
  {
   "cell_type": "code",
   "execution_count": 9,
   "outputs": [
    {
     "data": {
      "text/plain": "15298"
     },
     "execution_count": 9,
     "metadata": {},
     "output_type": "execute_result"
    }
   ],
   "source": [
    "60000-44702"
   ],
   "metadata": {
    "collapsed": false,
    "ExecuteTime": {
     "end_time": "2024-01-04T07:35:42.987770Z",
     "start_time": "2024-01-04T07:35:42.959551300Z"
    }
   },
   "id": "eac4540e36653283"
  },
  {
   "cell_type": "code",
   "execution_count": 6,
   "outputs": [
    {
     "name": "stderr",
     "output_type": "stream",
     "text": [
      "100%|██████████| 699/699 [00:21<00:00, 32.93it/s]\n"
     ]
    },
    {
     "data": {
      "text/plain": "11458"
     },
     "execution_count": 6,
     "metadata": {},
     "output_type": "execute_result"
    }
   ],
   "source": [
    "cnn = CNN()\n",
    "# 如果模型已经训练过，确保加载模型权重\n",
    "#该模型是用mnist官方数据集训练完成的\n",
    "cnn.load_state_dict(torch.load('cnn2.pkl'))\n",
    "# 将模型设置为评估模式\n",
    "cnn.eval()\n",
    "with torch.no_grad():\n",
    "    for index,data in enumerate(tqdm(newloader)):\n",
    "        # 获取预测结果\n",
    "        outputs = cnn(data)\n",
    "        _, predicted = torch.max(outputs, 1)\n",
    "        results.extend(predicted.cpu().numpy())"
   ],
   "metadata": {
    "collapsed": false,
    "ExecuteTime": {
     "end_time": "2024-01-04T07:32:33.280411800Z",
     "start_time": "2024-01-04T07:32:12.036236600Z"
    }
   },
   "id": "3655c4e22d9a4706"
  },
  {
   "cell_type": "code",
   "execution_count": null,
   "outputs": [],
   "source": [],
   "metadata": {
    "collapsed": false
   },
   "id": "cc8d9ca0d5a116f9"
  }
 ],
 "metadata": {
  "kernelspec": {
   "display_name": "Python 3",
   "language": "python",
   "name": "python3"
  },
  "language_info": {
   "codemirror_mode": {
    "name": "ipython",
    "version": 2
   },
   "file_extension": ".py",
   "mimetype": "text/x-python",
   "name": "python",
   "nbconvert_exporter": "python",
   "pygments_lexer": "ipython2",
   "version": "2.7.6"
  }
 },
 "nbformat": 4,
 "nbformat_minor": 5
}
